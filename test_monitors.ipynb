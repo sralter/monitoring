{
 "cells": [
  {
   "cell_type": "code",
   "execution_count": 40,
   "metadata": {},
   "outputs": [
    {
     "name": "stderr",
     "output_type": "stream",
     "text": [
      "2025-03-19 11:32:53,453 - INFO - Test function started\n",
      "2025-03-19 11:32:55,459 - INFO - Test function completed\n",
      "2025-03-19 11:32:55,459 - INFO - Function `test_function` executed in 2.0069 sec, CPU Time: 0.0016 sec, Memory Change: 0.3750 MB, Final Memory: 38.8750 MB\n",
      "2025-03-19 11:32:55,461 - INFO - Test exception function starting\n",
      "2025-03-19 11:32:55,462 - ERROR - Function `test_exception` raised an exception: This is a test error!\n",
      "Traceback (most recent call last):\n",
      "  File \"/Users/sra/files/projects/revealgc/soc-api/app/BlobSearch/Helpers/monitoring.py\", line 200, in wrapper\n",
      "    return func(*args, **kwargs)\n",
      "           ^^^^^^^^^^^^^^^^^^^^^\n",
      "  File \"/var/folders/n3/q8wb235x57n_sx2q14dsngjr0000gn/T/ipykernel_96062/4159784902.py\", line 21, in test_exception\n",
      "    raise ValueError(\"This is a test error!\")\n",
      "ValueError: This is a test error!\n",
      "2025-03-19 11:32:55,462 - ERROR - Function `test_exception` raised an exception: This is a test error!\n",
      "Traceback (most recent call last):\n",
      "  File \"/Users/sra/files/projects/revealgc/soc-api/app/BlobSearch/Helpers/monitoring.py\", line 200, in wrapper\n",
      "    return func(*args, **kwargs)\n",
      "           ^^^^^^^^^^^^^^^^^^^^^\n",
      "  File \"/var/folders/n3/q8wb235x57n_sx2q14dsngjr0000gn/T/ipykernel_96062/4159784902.py\", line 21, in test_exception\n",
      "    raise ValueError(\"This is a test error!\")\n",
      "ValueError: This is a test error!\n"
     ]
    },
    {
     "name": "stdout",
     "output_type": "stream",
     "text": [
      "Function `test_function` executed in 2.0069 sec, CPU Time: 0.0016 sec, Memory Change: 0.3750 MB, Final Memory: 38.8750 MB\n",
      "Done!\n",
      "Caught an exception as expected: This is a test error!\n"
     ]
    }
   ],
   "source": [
    "import monitoring\n",
    "import logging\n",
    "import time\n",
    "import importlib\n",
    "importlib.reload(monitoring)\n",
    "from monitoring import Timer, ErrorCatcher\n",
    "\n",
    "# A function to test timing; this one runs successfully.\n",
    "@Timer()\n",
    "def test_function():\n",
    "    logging.info(\"Test function started\")\n",
    "    time.sleep(2)  # Simulate processing\n",
    "    logging.info(\"Test function completed\")\n",
    "    return \"Done!\"\n",
    "\n",
    "# A function to test error catching; it deliberately raises an exception.\n",
    "@ErrorCatcher()\n",
    "def test_exception():\n",
    "    logging.info(\"Test exception function starting\")\n",
    "    # Intentionally raise an error to trigger the error catcher.\n",
    "    raise ValueError(\"This is a test error!\")\n",
    "\n",
    "# Run test_function; its execution details will be logged in timing_results.csv and timing.log.\n",
    "result = test_function()\n",
    "print(result)\n",
    "\n",
    "# Run test_exception in a try/except block to catch and print the error.\n",
    "try:\n",
    "    test_exception()\n",
    "except Exception as e:\n",
    "    print(f\"Caught an exception as expected: {e}\")"
   ]
  }
 ],
 "metadata": {
  "kernelspec": {
   "display_name": "Python 3",
   "language": "python",
   "name": "python3"
  },
  "language_info": {
   "codemirror_mode": {
    "name": "ipython",
    "version": 3
   },
   "file_extension": ".py",
   "mimetype": "text/x-python",
   "name": "python",
   "nbconvert_exporter": "python",
   "pygments_lexer": "ipython3",
   "version": "3.11.8"
  }
 },
 "nbformat": 4,
 "nbformat_minor": 2
}
