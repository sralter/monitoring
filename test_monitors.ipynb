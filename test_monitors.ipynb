{
 "cells": [
  {
   "cell_type": "code",
   "execution_count": 5,
   "metadata": {},
   "outputs": [
    {
     "name": "stderr",
     "output_type": "stream",
     "text": [
      "2025-03-20 08:08:12,442 - INFO - Test function started\n",
      "2025-03-20 08:08:14,448 - INFO - Test function completed\n",
      "2025-03-20 08:08:14,451 - INFO - Function `test_function` executed in 2.0084 sec, CPU Time: 0.0038 sec, Memory Change: 0.0000 MB, Final Memory: 131.1562 MB\n",
      "2025-03-20 08:08:14,454 - INFO - Test exception function starting\n",
      "2025-03-20 08:08:14,455 - ERROR - Function `test_exception` raised an exception: This is a test error!\n",
      "Traceback (most recent call last):\n",
      "  File \"/Users/sra/files/projects/monitoring/monitoring.py\", line 272, in wrapper\n",
      "    return func(*args, **kwargs)\n",
      "           ^^^^^^^^^^^^^^^^^^^^^\n",
      "  File \"/var/folders/n3/q8wb235x57n_sx2q14dsngjr0000gn/T/ipykernel_98128/4159784902.py\", line 21, in test_exception\n",
      "    raise ValueError(\"This is a test error!\")\n",
      "ValueError: This is a test error!\n",
      "2025-03-20 08:08:14,455 - ERROR - Function `test_exception` raised an exception: This is a test error!\n",
      "Traceback (most recent call last):\n",
      "  File \"/Users/sra/files/projects/monitoring/monitoring.py\", line 272, in wrapper\n",
      "    return func(*args, **kwargs)\n",
      "           ^^^^^^^^^^^^^^^^^^^^^\n",
      "  File \"/var/folders/n3/q8wb235x57n_sx2q14dsngjr0000gn/T/ipykernel_98128/4159784902.py\", line 21, in test_exception\n",
      "    raise ValueError(\"This is a test error!\")\n",
      "ValueError: This is a test error!\n"
     ]
    },
    {
     "name": "stdout",
     "output_type": "stream",
     "text": [
      "Function `test_function` executed in 2.0084 sec, CPU Time: 0.0038 sec, Memory Change: 0.0000 MB, Final Memory: 131.1562 MB\n",
      "Done!\n",
      "Caught an exception as expected: This is a test error!\n"
     ]
    }
   ],
   "source": [
    "import monitoring\n",
    "import logging\n",
    "import time\n",
    "import importlib\n",
    "importlib.reload(monitoring)\n",
    "from monitoring import Timer, ErrorCatcher\n",
    "\n",
    "# A function to test timing; this one runs successfully.\n",
    "@Timer()\n",
    "def test_function():\n",
    "    logging.info(\"Test function started\")\n",
    "    time.sleep(2)  # Simulate processing\n",
    "    logging.info(\"Test function completed\")\n",
    "    return \"Done!\"\n",
    "\n",
    "# A function to test error catching; it deliberately raises an exception.\n",
    "@ErrorCatcher()\n",
    "def test_exception():\n",
    "    logging.info(\"Test exception function starting\")\n",
    "    # Intentionally raise an error to trigger the error catcher.\n",
    "    raise ValueError(\"This is a test error!\")\n",
    "\n",
    "# Run test_function; its execution details will be logged in timing_results.csv and timing.log.\n",
    "result = test_function()\n",
    "print(result)\n",
    "\n",
    "# Run test_exception in a try/except block to catch and print the error.\n",
    "try:\n",
    "    test_exception()\n",
    "except Exception as e:\n",
    "    print(f\"Caught an exception as expected: {e}\")"
   ]
  },
  {
   "cell_type": "markdown",
   "metadata": {},
   "source": [
    "Test the parquet option:"
   ]
  },
  {
   "cell_type": "code",
   "execution_count": 8,
   "metadata": {},
   "outputs": [
    {
     "name": "stderr",
     "output_type": "stream",
     "text": [
      "2025-03-20 08:10:14,483 - INFO - Test function started\n",
      "2025-03-20 08:10:16,489 - INFO - Test function completed\n",
      "2025-03-20 08:10:16,491 - INFO - Function `test_function` executed in 2.0089 sec, CPU Time: 0.0037 sec, Memory Change: 0.2031 MB, Final Memory: 111.0469 MB\n",
      "2025-03-20 08:10:16,505 - INFO - Test exception function starting\n",
      "2025-03-20 08:10:16,506 - ERROR - Function `test_exception` raised an exception: This is a test error!\n",
      "Traceback (most recent call last):\n",
      "  File \"/Users/sra/files/projects/monitoring/monitoring.py\", line 272, in wrapper\n",
      "    return func(*args, **kwargs)\n",
      "           ^^^^^^^^^^^^^^^^^^^^^\n",
      "  File \"/var/folders/n3/q8wb235x57n_sx2q14dsngjr0000gn/T/ipykernel_98128/2047492326.py\", line 21, in test_exception\n",
      "    raise ValueError(\"This is a test error!\")\n",
      "ValueError: This is a test error!\n",
      "2025-03-20 08:10:16,506 - ERROR - Function `test_exception` raised an exception: This is a test error!\n",
      "Traceback (most recent call last):\n",
      "  File \"/Users/sra/files/projects/monitoring/monitoring.py\", line 272, in wrapper\n",
      "    return func(*args, **kwargs)\n",
      "           ^^^^^^^^^^^^^^^^^^^^^\n",
      "  File \"/var/folders/n3/q8wb235x57n_sx2q14dsngjr0000gn/T/ipykernel_98128/2047492326.py\", line 21, in test_exception\n",
      "    raise ValueError(\"This is a test error!\")\n",
      "ValueError: This is a test error!\n"
     ]
    },
    {
     "name": "stdout",
     "output_type": "stream",
     "text": [
      "Function `test_function` executed in 2.0089 sec, CPU Time: 0.0037 sec, Memory Change: 0.2031 MB, Final Memory: 111.0469 MB\n",
      "Done!\n",
      "Caught an exception as expected: This is a test error!\n"
     ]
    }
   ],
   "source": [
    "import monitoring\n",
    "import logging\n",
    "import time\n",
    "import importlib\n",
    "importlib.reload(monitoring)\n",
    "from monitoring import Timer, ErrorCatcher\n",
    "\n",
    "# A function to test timing; this one runs successfully.\n",
    "@Timer(results_format='parquet')\n",
    "def test_function():\n",
    "    logging.info(\"Test function started\")\n",
    "    time.sleep(2)  # Simulate processing\n",
    "    logging.info(\"Test function completed\")\n",
    "    return \"Done!\"\n",
    "\n",
    "# A function to test error catching; it deliberately raises an exception.\n",
    "@ErrorCatcher(results_format='parquet')\n",
    "def test_exception():\n",
    "    logging.info(\"Test exception function starting\")\n",
    "    # Intentionally raise an error to trigger the error catcher.\n",
    "    raise ValueError(\"This is a test error!\")\n",
    "\n",
    "# Run test_function; its execution details will be logged in timing_results.csv and timing.log.\n",
    "result = test_function()\n",
    "print(result)\n",
    "\n",
    "# Run test_exception in a try/except block to catch and print the error.\n",
    "try:\n",
    "    test_exception()\n",
    "except Exception as e:\n",
    "    print(f\"Caught an exception as expected: {e}\")"
   ]
  },
  {
   "cell_type": "code",
   "execution_count": 9,
   "metadata": {},
   "outputs": [
    {
     "data": {
      "text/html": [
       "<div>\n",
       "<style scoped>\n",
       "    .dataframe tbody tr th:only-of-type {\n",
       "        vertical-align: middle;\n",
       "    }\n",
       "\n",
       "    .dataframe tbody tr th {\n",
       "        vertical-align: top;\n",
       "    }\n",
       "\n",
       "    .dataframe thead th {\n",
       "        text-align: right;\n",
       "    }\n",
       "</style>\n",
       "<table border=\"1\" class=\"dataframe\">\n",
       "  <thead>\n",
       "    <tr style=\"text-align: right;\">\n",
       "      <th></th>\n",
       "      <th>Timestamp</th>\n",
       "      <th>UUID</th>\n",
       "      <th>Function Name</th>\n",
       "      <th>Execution Time (s)</th>\n",
       "      <th>CPU Time (sec)</th>\n",
       "      <th>Memory Change (MB)</th>\n",
       "      <th>Final Memory Usage (MB)</th>\n",
       "      <th>Arguments</th>\n",
       "      <th>Log Message</th>\n",
       "    </tr>\n",
       "  </thead>\n",
       "  <tbody>\n",
       "    <tr>\n",
       "      <th>0</th>\n",
       "      <td>2025-03-20 08:10:16</td>\n",
       "      <td>c7ebb846-3445-449b-9f1b-83d7064ba24b</td>\n",
       "      <td>test_function</td>\n",
       "      <td>2.008888</td>\n",
       "      <td>0.003663</td>\n",
       "      <td>0.203125</td>\n",
       "      <td>111.046875</td>\n",
       "      <td>{\"args\": [], \"kwargs\": {}}</td>\n",
       "      <td>Function `test_function` executed in 2.0089 se...</td>\n",
       "    </tr>\n",
       "  </tbody>\n",
       "</table>\n",
       "</div>"
      ],
      "text/plain": [
       "             Timestamp                                  UUID  Function Name  \\\n",
       "0  2025-03-20 08:10:16  c7ebb846-3445-449b-9f1b-83d7064ba24b  test_function   \n",
       "\n",
       "   Execution Time (s)  CPU Time (sec)  Memory Change (MB)  \\\n",
       "0            2.008888        0.003663            0.203125   \n",
       "\n",
       "   Final Memory Usage (MB)                   Arguments  \\\n",
       "0               111.046875  {\"args\": [], \"kwargs\": {}}   \n",
       "\n",
       "                                         Log Message  \n",
       "0  Function `test_function` executed in 2.0089 se...  "
      ]
     },
     "execution_count": 9,
     "metadata": {},
     "output_type": "execute_result"
    }
   ],
   "source": [
    "import duckdb\n",
    "\n",
    "timing_results = duckdb.sql(\"\"\"\n",
    "select * from read_parquet('logs/timing_results.parquet')\n",
    "\"\"\").to_df()\n",
    "\n",
    "timing_results.head()"
   ]
  },
  {
   "cell_type": "code",
   "execution_count": null,
   "metadata": {},
   "outputs": [],
   "source": []
  }
 ],
 "metadata": {
  "kernelspec": {
   "display_name": "Python 3",
   "language": "python",
   "name": "python3"
  },
  "language_info": {
   "codemirror_mode": {
    "name": "ipython",
    "version": 3
   },
   "file_extension": ".py",
   "mimetype": "text/x-python",
   "name": "python",
   "nbconvert_exporter": "python",
   "pygments_lexer": "ipython3",
   "version": "3.11.8"
  }
 },
 "nbformat": 4,
 "nbformat_minor": 2
}
